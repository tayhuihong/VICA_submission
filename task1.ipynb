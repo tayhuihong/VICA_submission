{
 "cells": [
  {
   "cell_type": "markdown",
   "metadata": {},
   "source": [
    "# Background\n",
    "You are working for an insurance company in Wakanda. The company provides\n",
    "health and term life insurance products. The company has compiled the data of\n",
    "5,500 insurees into the file insurance_data.csv, to understand whether they renew\n",
    "their policies with the company or not. You can find the description of the data in the\n",
    "table below."
   ]
  },
  {
   "cell_type": "markdown",
   "metadata": {},
   "source": [
    "# Task 1: You have to create a prediction model to understand insuree renewal behaviour.\n",
    "Create a presentation/Jupyter notebook to highlight salient features of the data and model results."
   ]
  },
  {
   "cell_type": "markdown",
   "metadata": {},
   "source": [
    "# Guiding Questions\n",
    "What is the data quality and which steps did you take to clean and structure the\n",
    "dataset (e.g., how did you handle outliers, missing values, etc.)? <br/>\n",
    "For validation purposes the company would like to see some typical cross sections\n",
    "of the data. For example, think of the following:\n",
    "1. What is the average number of riders health insurance customers purchase,\n",
    "and which ones are the most popular?\n",
    "2. What is the most popular rider for older people?\n",
    "3. Which model did you use to gain insight into the insuree behaviour, and what\n",
    "are the determining factors for choosing this model?\n",
    "4. Why are the insurees not renewing and what are the most important factors?"
   ]
  },
  {
   "cell_type": "markdown",
   "metadata": {},
   "source": [
    "# Assumptions\n",
    "1. Commas are replaced by decimal points for monthlyPremium and totalPremium as they are supposed to be of type float.\n",
    "2. 'no term life policy taken' and 'term life policy not taken' means insuree has no term life insurance\n",
    "3. NA values will be replaced with integer 0 for healthRiders, assuming insurees left it blank because they have no riders on their health policies.\n"
   ]
  },
  {
   "cell_type": "markdown",
   "metadata": {},
   "source": [
    "### Import libraries and dataset\n",
    "---"
   ]
  },
  {
   "cell_type": "code",
   "execution_count": 12,
   "metadata": {},
   "outputs": [],
   "source": [
    "#Libraries\n",
    "import pandas as pd\n",
    "import numpy as np\n",
    "import matplotlib.pyplot as plt"
   ]
  },
  {
   "cell_type": "code",
   "execution_count": 13,
   "metadata": {},
   "outputs": [],
   "source": [
    "#Import dataset\n",
    "df = pd.read_csv(\"insurance_data.csv\", delimiter=';')"
   ]
  },
  {
   "cell_type": "markdown",
   "metadata": {},
   "source": [
    "## Data Wrangling\n",
    "---"
   ]
  },
  {
   "cell_type": "markdown",
   "metadata": {},
   "source": [
    "### Data Cleaning - Preliminary check of data type and content of each column"
   ]
  },
  {
   "cell_type": "code",
   "execution_count": 14,
   "metadata": {},
   "outputs": [
    {
     "name": "stdout",
     "output_type": "stream",
     "text": [
      "int64 insuree# [ 1  2  3  4  5  6  7  8  9 10]\n",
      "object gender ['F' 'M' nan]\n",
      "float64 is45OrOlder [ 0.  1. nan]\n",
      "object isMarried ['No' 'Yes']\n",
      "object hasKids ['No' 'Yes']\n",
      "int64 insuredMonths [0 1 2 3 4 5 6 7 8 9]\n",
      "object termLifeInsurance ['No' 'Yes']\n",
      "object multipleTermLifePolicies ['No' 'Yes' 'no term life policy taken' 'term life policy not taken']\n",
      "object healthInsurance ['Class A' 'Class B' 'No']\n",
      "object healthRiders ['1' '1,2' '1,2,3' '1,2,3,4' '1,2,4' '1,3' '1,3,4' '1,4' '2' '2,3']\n",
      "float64 premiumFrequency [ 1.  3. 12. nan]\n",
      "object eStatements ['No' 'Yes']\n",
      "object monthlyPremium ['100' '100,05' '100,1' '100,15' '100,2' '100,25' '100,3' '100,35' '100,4'\n",
      " '100,45']\n",
      "object totalPremium [' ' '100,2' '100,25' '100,35' '100,8' '100,9' '1001,2' '1001,5' '1004,35'\n",
      " '1004,5']\n",
      "object renewal ['N' 'Y']\n"
     ]
    }
   ],
   "source": [
    "#Preliminary check of each column's data type and values\n",
    "for col in df.columns:\n",
    "    print(df[col].dtype, col, df[col].sort_values().unique()[:10])"
   ]
  },
  {
   "cell_type": "markdown",
   "metadata": {},
   "source": [
    "### Data Cleaning - Fix content of each column"
   ]
  },
  {
   "cell_type": "code",
   "execution_count": 15,
   "metadata": {},
   "outputs": [],
   "source": [
    "#Fix multipleTermLifePolicies column - Only Yes or No\n",
    "df['multipleTermLifePolicies'] = df['multipleTermLifePolicies'].replace(['no term life policy taken', 'term life policy not taken'], 'No')\n",
    "\n",
    "#Fix healthInsurance column - Only Yes or No\n",
    "df['healthInsurance'] = df['healthInsurance'].replace(['Class A', 'Class B'], 'Yes')\n",
    "\n",
    "#Fix monthlyPremium, totalPremium - comma replaced by decimal point for float type\n",
    "df['monthlyPremium'] = df['monthlyPremium'].str.replace(',', '.')\n",
    "df['totalPremium'] = df['totalPremium'].str.replace(',', '.')\n",
    "\n",
    "#Fix totalPremium - remove empty string\n",
    "df.loc[df.totalPremium == ' ', 'totalPremium'].count() #small number (9) of rows with empty string\n",
    "df['totalPremium'] = df['totalPremium'].replace(' ', np.nan)\n",
    "df.dropna(subset=['totalPremium'], inplace=True)\n",
    "\n",
    "#Fix renewal - change Y, N to Yes, No for standardization\n",
    "df['renewal'] = df['renewal'].replace({'Y':'Yes', 'N':'No'})"
   ]
  },
  {
   "cell_type": "markdown",
   "metadata": {},
   "source": [
    "### Data Cleaning - NAs\n",
    "\n",
    "#### Steps taken to treat NA values:\n",
    "1. Find columns with NA values\n",
    "2. If number of NA values is insignificant, will remove rows with NA values - removal of rows won't affect result much\n",
    "3. If number of NA values is significant, will replace with a proper value based on context of question\n",
    "\n",
    "#### Results:\n",
    "1. NA values will be removed for columns: gender, is45OrOlder, premiumFrequency because total % of NA removed is only 5.87% (insignificant). Therefore, sufficient data is still available for training prediction model\n",
    "2. NA values will be replaced with integer 0 for column: healthRiders. Since the amount of missing values are too significant, it can be assumed that the missing values are intentional - maybe due to some miscommunication when insurees were asked to answer the questions. Hence, it is possible that insurees did not fill in the data for healthRiders because they have zero riders on their health plans and intentionally left it blank."
   ]
  },
  {
   "cell_type": "code",
   "execution_count": 16,
   "metadata": {},
   "outputs": [
    {
     "data": {
      "image/png": "[encoded data removed]",
      "text/plain": [
       "<Figure size 360x144 with 1 Axes>"
      ]
     },
     "metadata": {
      "needs_background": "light"
     },
     "output_type": "display_data"
    },
    {
     "data": {
      "image/png": "[encoded data removed]",
      "text/plain": [
       "<Figure size 360x144 with 1 Axes>"
      ]
     },
     "metadata": {
      "needs_background": "light"
     },
     "output_type": "display_data"
    },
    {
     "data": {
      "image/png": "[encoded data removed]",
      "text/plain": [
       "<Figure size 360x144 with 1 Axes>"
      ]
     },
     "metadata": {
      "needs_background": "light"
     },
     "output_type": "display_data"
    },
    {
     "data": {
      "image/png": "[encoded data removed]",
      "text/plain": [
       "<Figure size 360x144 with 1 Axes>"
      ]
     },
     "metadata": {
      "needs_background": "light"
     },
     "output_type": "display_data"
    }
   ],
   "source": [
    "#Check NA values for each columns - has problems: gender, is45OrOlder, healthRiders, premiumFrequency\n",
    "df.isna().sum()\n",
    "\n",
    "#Preliminary data exploration to check each NA columns individually\n",
    "for col in df.columns[df.isna().any()].tolist():\n",
    "    count_NA = df[col].isna().sum()\n",
    "    pct_NA = round(count_NA*100/df.shape[0],2)\n",
    "    fig = plt.figure(figsize=(5,2))\n",
    "    df[col].value_counts(dropna=False).plot(kind='bar', title=f'{col}, pct of NAs: {pct_NA}%')"
   ]
  },
  {
   "cell_type": "code",
   "execution_count": 17,
   "metadata": {},
   "outputs": [
    {
     "data": {
      "text/plain": [
       "insuree#                    0\n",
       "gender                      0\n",
       "is45OrOlder                 0\n",
       "isMarried                   0\n",
       "hasKids                     0\n",
       "insuredMonths               0\n",
       "termLifeInsurance           0\n",
       "multipleTermLifePolicies    0\n",
       "healthInsurance             0\n",
       "healthRiders                0\n",
       "premiumFrequency            0\n",
       "eStatements                 0\n",
       "monthlyPremium              0\n",
       "totalPremium                0\n",
       "renewal                     0\n",
       "dtype: int64"
      ]
     },
     "execution_count": 17,
     "metadata": {},
     "output_type": "execute_result"
    }
   ],
   "source": [
    "#Treat NA values\n",
    "\n",
    "#Remove NA values for gender, is45OrOlder, premiumFrequency - total rows removed is only ~6% of dataset\n",
    "df.dropna(subset=['gender', 'is45OrOlder', 'premiumFrequency'], inplace=True)\n",
    "\n",
    "#Replace NA values with 0 for healthRiders - assume NA values are actually 0\n",
    "df['healthRiders'].fillna(0, inplace=True)\n",
    "\n",
    "#Final check\n",
    "df.isna().sum()"
   ]
  },
  {
   "cell_type": "markdown",
   "metadata": {},
   "source": [
    "### Data Cleaning - Correcting data types of each column\n"
   ]
  },
  {
   "cell_type": "code",
   "execution_count": 18,
   "metadata": {},
   "outputs": [
    {
     "data": {
      "text/plain": [
       "insuree#                       int64\n",
       "gender                        object\n",
       "is45OrOlder                 category\n",
       "isMarried                   category\n",
       "hasKids                       object\n",
       "insuredMonths                  int64\n",
       "termLifeInsurance           category\n",
       "multipleTermLifePolicies    category\n",
       "healthInsurance             category\n",
       "healthRiders                  object\n",
       "premiumFrequency               int64\n",
       "eStatements                 category\n",
       "monthlyPremium               float64\n",
       "totalPremium                 float64\n",
       "renewal                     category\n",
       "dtype: object"
      ]
     },
     "execution_count": 18,
     "metadata": {},
     "output_type": "execute_result"
    }
   ],
   "source": [
    "#Convert to correct data type based on context\n",
    "convert_dict = {\n",
    "    'insuree#' : 'int64',\n",
    "    'gender': str,\n",
    "    'is45OrOlder': 'category',\n",
    "    'isMarried':'category',\n",
    "    'hasKids': str,\n",
    "    'insuredMonths': 'int64',\n",
    "    'termLifeInsurance': 'category',\n",
    "    'multipleTermLifePolicies': 'category',\n",
    "    'healthInsurance': 'category',\n",
    "    'healthRiders': str,\n",
    "    'premiumFrequency': 'int64',\n",
    "    'eStatements': 'category',\n",
    "    'monthlyPremium': 'float64',\n",
    "    'totalPremium': 'float64',\n",
    "    'renewal': 'category',\n",
    "}\n",
    "\n",
    "df = df.astype(convert_dict)\n",
    "df.dtypes"
   ]
  },
  {
   "cell_type": "markdown",
   "metadata": {},
   "source": [
    "### Data Cleaning - Outliers\n",
    "\n",
    "#### Steps taken to treat outlier values:\n",
    "1. Check outliers for columns with int/float data types\n",
    "2. Use interquartile range rule to remove outliers\n",
    "\n",
    "#### Results:\n",
    "1. 5096 rows remain after removal (93% data retained) - still sufficient for training model"
   ]
  },
  {
   "cell_type": "code",
   "execution_count": 19,
   "metadata": {},
   "outputs": [
    {
     "data": {
      "image/png": "[encoded data removed]",
      "text/plain": [
       "<Figure size 720x144 with 1 Axes>"
      ]
     },
     "metadata": {
      "needs_background": "light"
     },
     "output_type": "display_data"
    },
    {
     "data": {
      "image/png": "[encoded data removed]",
      "text/plain": [
       "<Figure size 720x144 with 1 Axes>"
      ]
     },
     "metadata": {
      "needs_background": "light"
     },
     "output_type": "display_data"
    },
    {
     "data": {
      "image/png": "[encoded data removed]",
      "text/plain": [
       "<Figure size 720x144 with 1 Axes>"
      ]
     },
     "metadata": {
      "needs_background": "light"
     },
     "output_type": "display_data"
    }
   ],
   "source": [
    "#Check outlier using boxplot for each int/float column:\n",
    "for col in ['insuredMonths', 'monthlyPremium', 'totalPremium']:\n",
    "    val_min, val_max = df[col].min(), df[col].max()\n",
    "    fig = plt.figure(figsize=(10,2))\n",
    "    plt.boxplot(df[col], vert=False)\n",
    "    fig.suptitle(f'{col} - Min: {val_min}, Max: {val_max}')"
   ]
  },
  {
   "cell_type": "code",
   "execution_count": 40,
   "metadata": {},
   "outputs": [
    {
     "name": "stdout",
     "output_type": "stream",
     "text": [
      "(5096, 15)\n"
     ]
    },
    {
     "data": {
      "image/png": "[encoded data removed]",
      "text/plain": [
       "<Figure size 720x144 with 1 Axes>"
      ]
     },
     "metadata": {
      "needs_background": "light"
     },
     "output_type": "display_data"
    },
    {
     "data": {
      "image/png": "[encoded data removed]",
      "text/plain": [
       "<Figure size 720x144 with 1 Axes>"
      ]
     },
     "metadata": {
      "needs_background": "light"
     },
     "output_type": "display_data"
    },
    {
     "data": {
      "image/png": "[encoded data removed]",
      "text/plain": [
       "<Figure size 720x144 with 1 Axes>"
      ]
     },
     "metadata": {
      "needs_background": "light"
     },
     "output_type": "display_data"
    }
   ],
   "source": [
    "#Treat outliers using interquartile range\n",
    "df_no_outlier = df.copy()\n",
    "index_list = []\n",
    "for col in ['insuredMonths', 'monthlyPremium', 'totalPremium']:\n",
    "    IQR = df[col].quantile(0.75) - df[col].quantile(0.25)\n",
    "    upper_limit = df[col].quantile(0.75) + 1.5*IQR\n",
    "    lower_limit = df[col].quantile(0.75) - 1.5*IQR\n",
    "    df_no_outlier = df_no_outlier.loc[(df[col] >= lower_limit) & (df[col] <= upper_limit)]\n",
    "\n",
    "#Final check for outliers\n",
    "print(df_no_outlier.shape) #~7% data removed from orginal dataset\n",
    "for col in ['insuredMonths', 'monthlyPremium', 'totalPremium']:\n",
    "    val_min, val_max = df_no_outlier[col].min(), df_no_outlier[col].max()\n",
    "    fig = plt.figure(figsize=(10,2))\n",
    "    plt.boxplot(df_no_outlier[col], vert=False)\n",
    "    fig.suptitle(f'{col} - Min: {val_min}, Max: {val_max}')\n"
   ]
  },
  {
   "cell_type": "code",
   "execution_count": null,
   "metadata": {},
   "outputs": [],
   "source": []
  }
 ],
 "metadata": {
  "kernelspec": {
   "display_name": "Python 3.9.7 ('base')",
   "language": "python",
   "name": "python3"
  },
  "language_info": {
   "codemirror_mode": {
    "name": "ipython",
    "version": 3
   },
   "file_extension": ".py",
   "mimetype": "text/x-python",
   "name": "python",
   "nbconvert_exporter": "python",
   "pygments_lexer": "ipython3",
   "version": "3.9.7"
  },
  "orig_nbformat": 4,
  "vscode": {
   "interpreter": {
    "hash": "4a7c6d69fb3a3f26e6f63a114093cfe707b814febc8ad073a129e5428b5fee5f"
   }
  }
 },
 "nbformat": 4,
 "nbformat_minor": 2
}
