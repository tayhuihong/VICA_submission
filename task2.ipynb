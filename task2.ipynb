{
 "cells": [
  {
   "cell_type": "markdown",
   "metadata": {},
   "source": [
    "# Task 2: \n",
    "You have to push the original data in a structured format into MongoDB. The following structure is to be followed."
   ]
  },
  {
   "cell_type": "code",
   "execution_count": 158,
   "metadata": {},
   "outputs": [],
   "source": [
    "#Libraries\n",
    "import pandas as pd\n",
    "import numpy as np\n",
    "# !pip install pymongo\n",
    "from pymongo import MongoClient"
   ]
  },
  {
   "cell_type": "code",
   "execution_count": 159,
   "metadata": {},
   "outputs": [],
   "source": [
    "#Initiate client\n",
    "client = MongoClient(\"mongodb://localhost:27017\")"
   ]
  },
  {
   "cell_type": "code",
   "execution_count": 160,
   "metadata": {},
   "outputs": [],
   "source": [
    "#Import dataset\n",
    "df = pd.read_csv(\"insurance_data.csv\", delimiter=';')\n",
    "\n",
    "#Convert to correct value for insertion\n",
    "def change_value(val, to_change1, new_val1, to_change2, new_val2):\n",
    "        val = str(val)\n",
    "        if type(to_change1) != list: \n",
    "            to_change1 = str(to_change1)\n",
    "        if type(to_change2) != list:\n",
    "            to_change2 = str(to_change2)\n",
    "\n",
    "        if val in list(to_change1) or val == to_change1:\n",
    "            return new_val1\n",
    "        elif val in list(to_change2) or val == to_change2:\n",
    "            return new_val2\n",
    "        else:\n",
    "            return val\n",
    "\n",
    "#Change to correct data value for insertion\n",
    "df['is45OrOlder'] = df.is45OrOlder.apply(lambda x: change_value(x, 1.0, True, 0.0, False))\n",
    "df['isMarried'] = df.isMarried.apply(lambda x: change_value(x, 'Yes', True, 'No', False))\n",
    "df['hasKids'] = df.hasKids.apply(lambda x: change_value(x, 'Yes', True, 'No', False))\n",
    "df['termLifeInsurance'] = df.termLifeInsurance.apply(lambda x: change_value(x, 'Yes', True, ['No','no term life policy taken','term life policy not taken'], False))\n",
    "df['multipleTermLifePolicies'] = df.multipleTermLifePolicies.apply(lambda x: change_value(x, 'Yes', True, 'No', False))\n",
    "df['healthInsurance'] = df.healthInsurance.apply(lambda x: change_value(x, ['Yes','Class A','Class B'], True, 'No', False))\n",
    "df['eStatements'] = df.eStatements.apply(lambda x: change_value(x, 'Yes', True, 'No', False))\n",
    "df['renewal'] = df.renewal.apply(lambda x: change_value(x, 'Y', True, 'N', False))\n",
    "df['monthlyPremium'] = df['monthlyPremium'].str.replace(',', '.')\n",
    "df['totalPremium'] = df['totalPremium'].str.replace(',', '.')\n",
    "df['totalPremium'] = df['totalPremium'].replace(' ', np.nan)"
   ]
  },
  {
   "cell_type": "code",
   "execution_count": 161,
   "metadata": {},
   "outputs": [
    {
     "data": {
      "text/plain": [
       "<pymongo.results.InsertManyResult at 0x113d16c3ca0>"
      ]
     },
     "execution_count": 161,
     "metadata": {},
     "output_type": "execute_result"
    }
   ],
   "source": [
    "#Convert df to dictionary for insertion into MongoDB\n",
    "data = df.to_dict(\"records\")\n",
    "\n",
    "#Create database\n",
    "db = client['VICA']\n",
    "\n",
    "#Insert df into database as collection\n",
    "db.Insurance.insert_many(data)"
   ]
  },
  {
   "cell_type": "code",
   "execution_count": 162,
   "metadata": {},
   "outputs": [
    {
     "data": {
      "text/plain": [
       "<pymongo.results.UpdateResult at 0x113d0307970>"
      ]
     },
     "execution_count": 162,
     "metadata": {},
     "output_type": "execute_result"
    }
   ],
   "source": [
    "#Convert to correct data type\n",
    "#str to float\n",
    "db.Insurance.update_many(\n",
    "    {'monthlyPremium': {'$type': 2}},\n",
    "    [{'$set':{'monthlyPremium':{'$toDouble':'$monthlyPremium'}}}]\n",
    ")\n",
    "\n",
    "#str to float\n",
    "db.Insurance.update_many(\n",
    "    {'totalPremium': {'$type': 2}},\n",
    "    [{'$set':{'totalPremium':{'$toDouble':'$totalPremium'}}}]\n",
    ")\n",
    "\n",
    "#str to array\n",
    "db.Insurance.update_many(\n",
    "  {'healthRiders': {'$type': 2}},\n",
    "  [{ '$set': { 'healthRiders': { \"$split\": [ \"$healthRiders\", \",\" ] } } }],\n",
    ")"
   ]
  },
  {
   "cell_type": "code",
   "execution_count": null,
   "metadata": {},
   "outputs": [],
   "source": []
  }
 ],
 "metadata": {
  "kernelspec": {
   "display_name": "Python 3.9.7 ('base')",
   "language": "python",
   "name": "python3"
  },
  "language_info": {
   "codemirror_mode": {
    "name": "ipython",
    "version": 3
   },
   "file_extension": ".py",
   "mimetype": "text/x-python",
   "name": "python",
   "nbconvert_exporter": "python",
   "pygments_lexer": "ipython3",
   "version": "3.9.7"
  },
  "orig_nbformat": 4,
  "vscode": {
   "interpreter": {
    "hash": "4a7c6d69fb3a3f26e6f63a114093cfe707b814febc8ad073a129e5428b5fee5f"
   }
  }
 },
 "nbformat": 4,
 "nbformat_minor": 2
}
